{
  "nbformat": 4,
  "nbformat_minor": 0,
  "metadata": {
    "colab": {
      "provenance": [],
      "gpuType": "T4"
    },
    "kernelspec": {
      "name": "python3",
      "display_name": "Python 3"
    },
    "language_info": {
      "name": "python"
    },
    "accelerator": "GPU",
    "gpuClass": "standard"
  },
  "cells": [
    {
      "cell_type": "code",
      "source": [
        "!unzip /content/drive/MyDrive/BrainDetection.zip"
      ],
      "metadata": {
        "id": "n3t9uv_S1Xce"
      },
      "execution_count": null,
      "outputs": []
    },
    {
      "cell_type": "code",
      "source": [
        "import os\n",
        "import cv2\n",
        "import numpy as np\n",
        "from sklearn.cluster import KMeans\n",
        "import shutil\n",
        "\n",
        "# Step 1: Read and preprocess the images\n",
        "image_dir = \"/content/Brain_Tumor_Detection/yes\"\n",
        "image_files = os.listdir(image_dir)\n",
        "\n",
        "images = []\n",
        "for file in image_files:\n",
        "    image_path = os.path.join(image_dir, file)\n",
        "    image = cv2.imread(image_path)  # Read the image using OpenCV\n",
        "    resized_image = cv2.resize(image, (256, 256))  # Resize the image to a common size\n",
        "    normalized_image = resized_image / 255.0  # Normalize pixel values between 0 and 1\n",
        "    images.append(normalized_image)\n",
        "\n",
        "# Step 2: Flatten the images\n",
        "flattened_images = np.array(images).reshape(len(images), -1)\n",
        "\n",
        "# Step 3: Perform K-means clustering\n",
        "k = 3  # Number of clusters\n",
        "kmeans = KMeans(n_clusters=k, random_state=42)\n",
        "kmeans.fit(flattened_images)\n",
        "\n",
        "# Step 4: Get cluster labels and assign stages\n",
        "cluster_labels = kmeans.labels_\n",
        "\n",
        "stage_mapping = {\n",
        "    0: \"Mild\",\n",
        "    1: \"Moderate\",\n",
        "    2: \"Severe\"\n",
        "}\n",
        "\n",
        "# Create separate folders for each cluster\n",
        "output_dir = \"/content/\"\n",
        "os.makedirs(output_dir, exist_ok=True)\n",
        "\n",
        "for i in range(k):\n",
        "    cluster_dir = os.path.join(output_dir, stage_mapping[i])\n",
        "    os.makedirs(cluster_dir, exist_ok=True)\n",
        "\n",
        "# Step 5: Copy images to respective cluster folders\n",
        "for i, file in enumerate(image_files):\n",
        "    image_path = os.path.join(image_dir, file)\n",
        "    cluster_label = cluster_labels[i]\n",
        "    cluster_dir = os.path.join(output_dir, stage_mapping[cluster_label])\n",
        "    shutil.copy(image_path, cluster_dir)\n",
        "\n",
        "print(\"Images copied into respective clusters.\")\n"
      ],
      "metadata": {
        "colab": {
          "base_uri": "https://localhost:8080/"
        },
        "id": "24z53_sHBYpC",
        "outputId": "cbe92e85-c6b8-46e2-db72-6d5a1dc854a0"
      },
      "execution_count": null,
      "outputs": [
        {
          "output_type": "stream",
          "name": "stderr",
          "text": [
            "/usr/local/lib/python3.10/dist-packages/sklearn/cluster/_kmeans.py:870: FutureWarning: The default value of `n_init` will change from 10 to 'auto' in 1.4. Set the value of `n_init` explicitly to suppress the warning\n",
            "  warnings.warn(\n"
          ]
        },
        {
          "output_type": "stream",
          "name": "stdout",
          "text": [
            "Images copied into respective clusters.\n"
          ]
        }
      ]
    },
    {
      "cell_type": "code",
      "source": [
        "import os\n",
        "import random\n",
        "import shutil\n",
        "\n",
        "# Step 1: Define the paths to the severity class folders\n",
        "mild_dir = \"/content/Mild\"\n",
        "moderate_dir = \"/content/Moderate\"\n",
        "severe_dir = \"/content/Severe\"\n",
        "\n",
        "# Step 2: Define the paths for the training, validation, and test sets\n",
        "output_dir = \"/content/\"\n",
        "train_dir = os.path.join(output_dir, \"train\")\n",
        "val_dir = os.path.join(output_dir, \"validation\")\n",
        "test_dir = os.path.join(output_dir, \"test\")\n",
        "\n",
        "# Step 3: Define the train-test-validation split ratio\n",
        "train_ratio = 0.7\n",
        "val_ratio = 0.15\n",
        "test_ratio = 0.15\n",
        "\n",
        "# Step 3: Create the train, validation, and test directories\n",
        "os.makedirs(os.path.join(train_dir, \"Mild\"), exist_ok=True)\n",
        "os.makedirs(os.path.join(train_dir, \"Moderate\"), exist_ok=True)\n",
        "os.makedirs(os.path.join(train_dir, \"Severe\"), exist_ok=True)\n",
        "\n",
        "os.makedirs(os.path.join(val_dir, \"Mild\"), exist_ok=True)\n",
        "os.makedirs(os.path.join(val_dir, \"Moderate\"), exist_ok=True)\n",
        "os.makedirs(os.path.join(val_dir, \"Severe\"), exist_ok=True)\n",
        "\n",
        "os.makedirs(os.path.join(test_dir, \"Mild\"), exist_ok=True)\n",
        "os.makedirs(os.path.join(test_dir, \"Moderate\"), exist_ok=True)\n",
        "os.makedirs(os.path.join(test_dir, \"Severe\"), exist_ok=True)\n",
        "\n",
        "# Step 4: Define a helper function to copy files to the respective class directories\n",
        "def copy_files(files, source_dir, destination_dir):\n",
        "    for file in files:\n",
        "        src_path = os.path.join(source_dir, file)\n",
        "        dest_dir = os.path.join(destination_dir, os.path.splitext(file)[0])\n",
        "        os.makedirs(dest_dir, exist_ok=True)\n",
        "        dest_path = os.path.join(dest_dir, file)\n",
        "        shutil.copy(src_path, dest_path)\n",
        "\n",
        "# Step 5: Get the list of files in each severity class folder\n",
        "mild_files = os.listdir(mild_dir)\n",
        "moderate_files = os.listdir(moderate_dir)\n",
        "severe_files = os.listdir(severe_dir)\n",
        "\n",
        "# Step 6: Shuffle the files\n",
        "random.shuffle(mild_files)\n",
        "random.shuffle(moderate_files)\n",
        "random.shuffle(severe_files)\n",
        "\n",
        "# Step 7: Split the files into train, validation, and test sets\n",
        "num_train_mild = int(train_ratio * len(mild_files))\n",
        "num_val_mild = int(val_ratio * len(mild_files))\n",
        "train_mild_files = mild_files[:num_train_mild]\n",
        "val_mild_files = mild_files[num_train_mild:num_train_mild + num_val_mild]\n",
        "test_mild_files = mild_files[num_train_mild + num_val_mild:]\n",
        "\n",
        "num_train_moderate = int(train_ratio * len(moderate_files))\n",
        "num_val_moderate = int(val_ratio * len(moderate_files))\n",
        "train_moderate_files = moderate_files[:num_train_moderate]\n",
        "val_moderate_files = moderate_files[num_train_moderate:num_train_moderate + num_val_moderate]\n",
        "test_moderate_files = moderate_files[num_train_moderate + num_val_moderate:]\n",
        "\n",
        "num_train_severe = int(train_ratio * len(severe_files))\n",
        "num_val_severe = int(val_ratio * len(severe_files))\n",
        "train_severe_files = severe_files[:num_train_severe]\n",
        "val_severe_files = severe_files[num_train_severe:num_train_severe + num_val_severe]\n",
        "test_severe_files = severe_files[num_train_severe + num_val_severe:]\n",
        "\n",
        "# Step 8: Copy files to the respective directories\n",
        "copy_files(train_mild_files, mild_dir, os.path.join(train_dir, \"Mild\"))\n",
        "copy_files(val_mild_files, mild_dir, os.path.join(val_dir, \"Mild\"))\n",
        "copy_files(test_mild_files, mild_dir, os.path.join(test_dir, \"Mild\"))\n",
        "\n",
        "copy_files(train_moderate_files, moderate_dir, os.path.join(train_dir, \"Moderate\"))\n",
        "copy_files(val_moderate_files, moderate_dir, os.path.join(val_dir, \"Moderate\"))\n",
        "copy_files(test_moderate_files, moderate_dir, os.path.join(test_dir, \"Moderate\"))\n",
        "\n",
        "copy_files(train_severe_files, severe_dir, os.path.join(train_dir, \"Severe\"))\n",
        "copy_files(val_severe_files, severe_dir, os.path.join(val_dir, \"Severe\"))\n",
        "copy_files(test_severe_files, severe_dir, os.path.join(test_dir, \"Severe\"))\n",
        "\n",
        "print(\"Data split into train, validation, and test sets.\")\n"
      ],
      "metadata": {
        "colab": {
          "base_uri": "https://localhost:8080/"
        },
        "id": "BY2wErO7JJgJ",
        "outputId": "68972ffd-3c53-4d2e-a195-84ef1d9458dc"
      },
      "execution_count": null,
      "outputs": [
        {
          "output_type": "stream",
          "name": "stdout",
          "text": [
            "Data split into train, validation, and test sets.\n"
          ]
        }
      ]
    },
    {
      "cell_type": "code",
      "source": [
        "import os\n",
        "import numpy as np\n",
        "import tensorflow as tf\n",
        "from tensorflow import keras\n",
        "from tensorflow.keras import layers\n",
        "\n",
        "# Step 1: Define the input shape of the images\n",
        "input_shape = (256, 256, 3)  # Assuming images are RGB color images of size 256x256\n",
        "\n",
        "# Step 2: Define the number of classes\n",
        "num_classes = 3\n",
        "\n",
        "# Step 3: Define the paths to the train, validation, and test directories\n",
        "train_dir = \"/content/train\"\n",
        "val_dir = \"/content/validation\"\n",
        "test_dir = \"/content/test\"\n",
        "\n",
        "# Step 4: Define the data generators to load and preprocess the images\n",
        "train_datagen = keras.preprocessing.image.ImageDataGenerator(\n",
        "    rescale=1.0/255.0,  # Normalize pixel values between 0 and 1\n",
        "    rotation_range=10,  # Randomly rotate images\n",
        "    width_shift_range=0.1,  # Randomly shift images horizontally\n",
        "    height_shift_range=0.1,  # Randomly shift images vertically\n",
        "    shear_range=0.1,  # Randomly apply shearing transformations\n",
        "    zoom_range=0.1,  # Randomly zoom-in on images\n",
        "    horizontal_flip=True,  # Randomly flip images horizontally\n",
        "    fill_mode=\"nearest\"  # Fill any missing pixels after augmentation\n",
        ")\n",
        "\n",
        "val_datagen = keras.preprocessing.image.ImageDataGenerator(rescale=1.0/255.0)\n",
        "\n",
        "test_datagen = keras.preprocessing.image.ImageDataGenerator(rescale=1.0/255.0)\n",
        "\n",
        "# Step 5: Define the data generators to load images from directories\n",
        "train_generator = train_datagen.flow_from_directory(\n",
        "    train_dir,\n",
        "    target_size=input_shape[:2],\n",
        "    batch_size=32,\n",
        "    class_mode='categorical'\n",
        ")\n",
        "\n",
        "val_generator = val_datagen.flow_from_directory(\n",
        "    val_dir,\n",
        "    target_size=input_shape[:2],\n",
        "    batch_size=32,\n",
        "    class_mode='categorical',\n",
        "    shuffle=False\n",
        ")\n",
        "\n",
        "test_generator = test_datagen.flow_from_directory(\n",
        "    test_dir,\n",
        "    target_size=input_shape[:2],\n",
        "    batch_size=32,\n",
        "    class_mode='categorical',\n",
        "    shuffle=False\n",
        ")\n",
        "\n",
        "# Retrieve the class labels for reference\n",
        "class_labels = list(train_generator.class_indices.keys())\n",
        "\n",
        "# Create a test dataset\n",
        "test_dataset = tf.data.Dataset.from_generator(\n",
        "    lambda: test_generator,\n",
        "    output_signature=(\n",
        "        tf.TensorSpec(shape=(None, *input_shape), dtype=tf.float32),\n",
        "        tf.TensorSpec(shape=(None, num_classes), dtype=tf.float32)\n",
        "    )\n",
        ")\n",
        "\n",
        "# Print the class labels\n",
        "print(\"Class Labels:\", class_labels)\n"
      ],
      "metadata": {
        "id": "xvT4Hc_w0xfk"
      },
      "execution_count": null,
      "outputs": []
    },
    {
      "cell_type": "code",
      "source": [
        "import tensorflow as tf\n",
        "from tensorflow.keras.models import Sequential\n",
        "from tensorflow.keras.layers import Conv2D, MaxPooling2D, Flatten, Dense\n",
        "\n",
        "img_width = 255\n",
        "img_height = 255\n",
        "img_channels = 3\n",
        "\n",
        "# Define the CNN model\n",
        "model = Sequential()\n",
        "\n",
        "# Add convolutional layers\n",
        "model.add(Conv2D(32, (3, 3), activation='relu', input_shape=(img_width, img_height, img_channels)))\n",
        "model.add(MaxPooling2D(pool_size=(2, 2)))\n",
        "\n",
        "model.add(Conv2D(64, (3, 3), activation='relu'))\n",
        "model.add(MaxPooling2D(pool_size=(2, 2)))\n",
        "\n",
        "model.add(Conv2D(128, (3, 3), activation='relu'))\n",
        "model.add(MaxPooling2D(pool_size=(2, 2)))\n",
        "\n",
        "# Flatten the tensor\n",
        "model.add(Flatten())\n",
        "\n",
        "# Add fully connected layers\n",
        "model.add(Dense(256, activation='relu'))\n",
        "model.add(Dense(128, activation='relu'))\n",
        "\n",
        "# Add the output layer with 3 neurons for the 3 classes\n",
        "model.add(Dense(3, activation='softmax'))\n",
        "\n",
        "# Print the model summary\n",
        "model.summary()\n"
      ],
      "metadata": {
        "colab": {
          "base_uri": "https://localhost:8080/"
        },
        "id": "bd7SvbHCYeWR",
        "outputId": "749b9e27-06ce-4d4f-ee6e-58773a9eeda7"
      },
      "execution_count": null,
      "outputs": [
        {
          "output_type": "stream",
          "name": "stdout",
          "text": [
            "Model: \"sequential\"\n",
            "_________________________________________________________________\n",
            " Layer (type)                Output Shape              Param #   \n",
            "=================================================================\n",
            " conv2d (Conv2D)             (None, 254, 254, 32)      896       \n",
            "                                                                 \n",
            " max_pooling2d (MaxPooling2D  (None, 127, 127, 32)     0         \n",
            " )                                                               \n",
            "                                                                 \n",
            " conv2d_1 (Conv2D)           (None, 125, 125, 64)      18496     \n",
            "                                                                 \n",
            " max_pooling2d_1 (MaxPooling  (None, 62, 62, 64)       0         \n",
            " 2D)                                                             \n",
            "                                                                 \n",
            " conv2d_2 (Conv2D)           (None, 60, 60, 128)       73856     \n",
            "                                                                 \n",
            " max_pooling2d_2 (MaxPooling  (None, 30, 30, 128)      0         \n",
            " 2D)                                                             \n",
            "                                                                 \n",
            " flatten (Flatten)           (None, 115200)            0         \n",
            "                                                                 \n",
            " dense (Dense)               (None, 256)               29491456  \n",
            "                                                                 \n",
            " dense_1 (Dense)             (None, 128)               32896     \n",
            "                                                                 \n",
            " dense_2 (Dense)             (None, 3)                 387       \n",
            "                                                                 \n",
            "=================================================================\n",
            "Total params: 29,617,987\n",
            "Trainable params: 29,617,987\n",
            "Non-trainable params: 0\n",
            "_________________________________________________________________\n"
          ]
        }
      ]
    },
    {
      "cell_type": "code",
      "source": [
        "# Early Stopping and Model Checkpoint\n",
        "\n",
        "from keras.callbacks import ModelCheckpoint, EarlyStopping\n",
        "\n",
        "metric = \"accuracy\"\n",
        "#Early Stopping\n",
        "\n",
        "es = EarlyStopping(monitor = metric, min_delta = 0.01, patience = 5, verbose = 1, mode = \"auto\")\n",
        "\n",
        "#Model Checkpoint\n",
        "\n",
        "mc = ModelCheckpoint(monitor = metric, filepath = \"./BrainCancerTreatment.h5\", verbose = 1, save_best_only = True, mode = \"auto\")\n",
        "\n",
        "cd = [es, mc]"
      ],
      "metadata": {
        "id": "4fyXRoHk40GW"
      },
      "execution_count": null,
      "outputs": []
    },
    {
      "cell_type": "code",
      "source": [
        "# Step 7: Compile the model\n",
        "model.compile(\n",
        "    optimizer='adam',\n",
        "    loss=keras.losses.CategoricalCrossentropy(),\n",
        "    metrics=['accuracy']\n",
        ")\n",
        "\n",
        "# Step 8: Train the model\n",
        "history = model.fit(\n",
        "    train_generator,\n",
        "    validation_data=val_generator,\n",
        "    epochs=10,\n",
        "    callbacks = cd\n",
        ")"
      ],
      "metadata": {
        "id": "jE6s3bU903vn",
        "colab": {
          "base_uri": "https://localhost:8080/"
        },
        "outputId": "f636f785-dbf7-4ce0-9ea0-049de8e15a3b"
      },
      "execution_count": null,
      "outputs": [
        {
          "output_type": "stream",
          "name": "stdout",
          "text": [
            "Epoch 1/10\n",
            "33/33 [==============================] - ETA: 0s - loss: 0.3557 - accuracy: 0.8684\n",
            "Epoch 1: accuracy improved from -inf to 0.86845, saving model to ./BrainCancerTreatment.h5\n",
            "33/33 [==============================] - 29s 810ms/step - loss: 0.3557 - accuracy: 0.8684 - val_loss: 0.1588 - val_accuracy: 0.9420\n",
            "Epoch 2/10\n",
            "33/33 [==============================] - ETA: 0s - loss: 0.3033 - accuracy: 0.8751\n",
            "Epoch 2: accuracy improved from 0.86845 to 0.87512, saving model to ./BrainCancerTreatment.h5\n",
            "33/33 [==============================] - 23s 689ms/step - loss: 0.3033 - accuracy: 0.8751 - val_loss: 0.2989 - val_accuracy: 0.8705\n",
            "Epoch 3/10\n",
            "33/33 [==============================] - ETA: 0s - loss: 0.2757 - accuracy: 0.8856\n",
            "Epoch 3: accuracy improved from 0.87512 to 0.88561, saving model to ./BrainCancerTreatment.h5\n",
            "33/33 [==============================] - 28s 871ms/step - loss: 0.2757 - accuracy: 0.8856 - val_loss: 0.1161 - val_accuracy: 0.9821\n",
            "Epoch 4/10\n",
            "33/33 [==============================] - ETA: 0s - loss: 0.2535 - accuracy: 0.8961\n",
            "Epoch 4: accuracy improved from 0.88561 to 0.89609, saving model to ./BrainCancerTreatment.h5\n",
            "33/33 [==============================] - 28s 855ms/step - loss: 0.2535 - accuracy: 0.8961 - val_loss: 0.1310 - val_accuracy: 0.9509\n",
            "Epoch 5/10\n",
            "33/33 [==============================] - ETA: 0s - loss: 0.2286 - accuracy: 0.8999\n",
            "Epoch 5: accuracy improved from 0.89609 to 0.89990, saving model to ./BrainCancerTreatment.h5\n",
            "33/33 [==============================] - 31s 952ms/step - loss: 0.2286 - accuracy: 0.8999 - val_loss: 0.1392 - val_accuracy: 0.9777\n",
            "Epoch 6/10\n",
            "33/33 [==============================] - ETA: 0s - loss: 0.2587 - accuracy: 0.8961\n",
            "Epoch 6: accuracy did not improve from 0.89990\n",
            "33/33 [==============================] - 21s 638ms/step - loss: 0.2587 - accuracy: 0.8961 - val_loss: 0.1370 - val_accuracy: 0.9643\n",
            "Epoch 7/10\n",
            "33/33 [==============================] - ETA: 0s - loss: 0.2192 - accuracy: 0.9085\n",
            "Epoch 7: accuracy improved from 0.89990 to 0.90848, saving model to ./BrainCancerTreatment.h5\n",
            "33/33 [==============================] - 24s 739ms/step - loss: 0.2192 - accuracy: 0.9085 - val_loss: 0.1573 - val_accuracy: 0.9375\n",
            "Epoch 8/10\n",
            "33/33 [==============================] - ETA: 0s - loss: 0.2910 - accuracy: 0.8894\n",
            "Epoch 8: accuracy did not improve from 0.90848\n",
            "33/33 [==============================] - 20s 599ms/step - loss: 0.2910 - accuracy: 0.8894 - val_loss: 0.2011 - val_accuracy: 0.9107\n",
            "Epoch 9/10\n",
            "33/33 [==============================] - ETA: 0s - loss: 0.2128 - accuracy: 0.9075\n",
            "Epoch 9: accuracy did not improve from 0.90848\n",
            "33/33 [==============================] - 20s 611ms/step - loss: 0.2128 - accuracy: 0.9075 - val_loss: 0.1368 - val_accuracy: 0.9509\n",
            "Epoch 10/10\n",
            "33/33 [==============================] - ETA: 0s - loss: 0.1951 - accuracy: 0.9094\n",
            "Epoch 10: accuracy improved from 0.90848 to 0.90944, saving model to ./BrainCancerTreatment.h5\n",
            "33/33 [==============================] - 27s 841ms/step - loss: 0.1951 - accuracy: 0.9094 - val_loss: 0.1485 - val_accuracy: 0.9420\n"
          ]
        }
      ]
    },
    {
      "cell_type": "code",
      "source": [
        "import matplotlib.pyplot as plt\n",
        "\n",
        "# plotting the training and validation loss\n",
        "plt.plot(history.history['loss'])\n",
        "plt.plot(history.history['val_loss'])\n",
        "plt.title('Model Loss')\n",
        "plt.xlabel('Epoch')\n",
        "plt.ylabel('Loss')\n",
        "plt.legend(['train', 'val'], loc='upper right')\n",
        "plt.show()\n",
        "\n",
        "# plotting the training and validation accuracy\n",
        "plt.plot(history.history['accuracy'])\n",
        "plt.plot(history.history['val_accuracy'])\n",
        "plt.title('Model Accuracy')\n",
        "plt.xlabel('Epoch')\n",
        "plt.ylabel('Accuracy')\n",
        "plt.legend(['train', 'val'], loc='lower right')\n",
        "plt.show()"
      ],
      "metadata": {
        "id": "DO0gvjQK09KY",
        "colab": {
          "base_uri": "https://localhost:8080/",
          "height": 927
        },
        "outputId": "2d2d2c94-eabb-4424-a493-ebd5d8f6d2a0"
      },
      "execution_count": null,
      "outputs": [
        {
          "output_type": "display_data",
          "data": {
            "text/plain": [
              "<Figure size 640x480 with 1 Axes>"
            ],
            "image/png": "[encoded data removed]"
          },
          "metadata": {}
        },
        {
          "output_type": "display_data",
          "data": {
            "text/plain": [
              "<Figure size 640x480 with 1 Axes>"
            ],
            "image/png": "[encoded data removed]"
          },
          "metadata": {}
        }
      ]
    },
    {
      "cell_type": "code",
      "source": [
        "# Evaluate the model on the test dataset\n",
        "test_loss, test_accuracy = model.evaluate(test_dataset)\n",
        "\n",
        "# Predict the classes for the test dataset\n",
        "y_pred = model.predict(test_dataset)\n",
        "y_pred = np.argmax(y_pred, axis=1)\n",
        "\n",
        "# Retrieve the true labels from the test generator\n",
        "y_true = test_generator.classes\n",
        "\n",
        "# Compute precision, recall, and F1-score\n",
        "precision = keras.metrics.Precision()(y_true, y_pred)\n",
        "recall = keras.metrics.Recall()(y_true, y_pred)\n",
        "f1_score = 2 * ((precision * recall) / (precision + recall))\n",
        "\n",
        "# Compute the confusion matrix\n",
        "confusion_matrix = tf.math.confusion_matrix(y_true, y_pred)\n",
        "\n",
        "# Print the evaluation metrics\n",
        "print(\"Test Loss:\", test_loss)\n",
        "print(\"Test Accuracy:\", test_accuracy)\n",
        "print(\"Test Precision:\", precision.numpy())\n",
        "print(\"Test Recall:\", recall.numpy())\n",
        "print(\"Test F1-Score:\", f1_score.numpy())\n",
        "print(\"Confusion Matrix:\")\n",
        "print(confusion_matrix.numpy())\n"
      ],
      "metadata": {
        "id": "8kZDJspt1C5N",
        "colab": {
          "base_uri": "https://localhost:8080/",
          "height": 413
        },
        "outputId": "7b65a9f1-3513-4a5f-b7c6-b45fe27cd0da"
      },
      "execution_count": null,
      "outputs": [
        {
          "output_type": "stream",
          "name": "stdout",
          "text": [
            "    295/Unknown - 35s 117ms/step - loss: 0.1485 - accuracy: 0.9471"
          ]
        },
        {
          "output_type": "error",
          "ename": "KeyboardInterrupt",
          "evalue": "ignored",
          "traceback": [
            "\u001b[0;31m---------------------------------------------------------------------------\u001b[0m",
            "\u001b[0;31mKeyboardInterrupt\u001b[0m                         Traceback (most recent call last)",
            "\u001b[0;32m<ipython-input-24-fb88a7ce0b02>\u001b[0m in \u001b[0;36m<cell line: 2>\u001b[0;34m()\u001b[0m\n\u001b[1;32m      1\u001b[0m \u001b[0;31m# Evaluate the model on the test dataset\u001b[0m\u001b[0;34m\u001b[0m\u001b[0;34m\u001b[0m\u001b[0m\n\u001b[0;32m----> 2\u001b[0;31m \u001b[0mtest_loss\u001b[0m\u001b[0;34m,\u001b[0m \u001b[0mtest_accuracy\u001b[0m \u001b[0;34m=\u001b[0m \u001b[0mmodel\u001b[0m\u001b[0;34m.\u001b[0m\u001b[0mevaluate\u001b[0m\u001b[0;34m(\u001b[0m\u001b[0mtest_dataset\u001b[0m\u001b[0;34m)\u001b[0m\u001b[0;34m\u001b[0m\u001b[0;34m\u001b[0m\u001b[0m\n\u001b[0m\u001b[1;32m      3\u001b[0m \u001b[0;34m\u001b[0m\u001b[0m\n\u001b[1;32m      4\u001b[0m \u001b[0;31m# Predict the classes for the test dataset\u001b[0m\u001b[0;34m\u001b[0m\u001b[0;34m\u001b[0m\u001b[0m\n\u001b[1;32m      5\u001b[0m \u001b[0my_pred\u001b[0m \u001b[0;34m=\u001b[0m \u001b[0mmodel\u001b[0m\u001b[0;34m.\u001b[0m\u001b[0mpredict\u001b[0m\u001b[0;34m(\u001b[0m\u001b[0mtest_dataset\u001b[0m\u001b[0;34m)\u001b[0m\u001b[0;34m\u001b[0m\u001b[0;34m\u001b[0m\u001b[0m\n",
            "\u001b[0;32m/usr/local/lib/python3.10/dist-packages/keras/utils/traceback_utils.py\u001b[0m in \u001b[0;36merror_handler\u001b[0;34m(*args, **kwargs)\u001b[0m\n\u001b[1;32m     63\u001b[0m         \u001b[0mfiltered_tb\u001b[0m \u001b[0;34m=\u001b[0m \u001b[0;32mNone\u001b[0m\u001b[0;34m\u001b[0m\u001b[0;34m\u001b[0m\u001b[0m\n\u001b[1;32m     64\u001b[0m         \u001b[0;32mtry\u001b[0m\u001b[0;34m:\u001b[0m\u001b[0;34m\u001b[0m\u001b[0;34m\u001b[0m\u001b[0m\n\u001b[0;32m---> 65\u001b[0;31m             \u001b[0;32mreturn\u001b[0m \u001b[0mfn\u001b[0m\u001b[0;34m(\u001b[0m\u001b[0;34m*\u001b[0m\u001b[0margs\u001b[0m\u001b[0;34m,\u001b[0m \u001b[0;34m**\u001b[0m\u001b[0mkwargs\u001b[0m\u001b[0;34m)\u001b[0m\u001b[0;34m\u001b[0m\u001b[0;34m\u001b[0m\u001b[0m\n\u001b[0m\u001b[1;32m     66\u001b[0m         \u001b[0;32mexcept\u001b[0m \u001b[0mException\u001b[0m \u001b[0;32mas\u001b[0m \u001b[0me\u001b[0m\u001b[0;34m:\u001b[0m\u001b[0;34m\u001b[0m\u001b[0;34m\u001b[0m\u001b[0m\n\u001b[1;32m     67\u001b[0m             \u001b[0mfiltered_tb\u001b[0m \u001b[0;34m=\u001b[0m \u001b[0m_process_traceback_frames\u001b[0m\u001b[0;34m(\u001b[0m\u001b[0me\u001b[0m\u001b[0;34m.\u001b[0m\u001b[0m__traceback__\u001b[0m\u001b[0;34m)\u001b[0m\u001b[0;34m\u001b[0m\u001b[0;34m\u001b[0m\u001b[0m\n",
            "\u001b[0;32m/usr/local/lib/python3.10/dist-packages/keras/engine/training.py\u001b[0m in \u001b[0;36mevaluate\u001b[0;34m(self, x, y, batch_size, verbose, sample_weight, steps, callbacks, max_queue_size, workers, use_multiprocessing, return_dict, **kwargs)\u001b[0m\n\u001b[1;32m   2070\u001b[0m                         ):\n\u001b[1;32m   2071\u001b[0m                             \u001b[0mcallbacks\u001b[0m\u001b[0;34m.\u001b[0m\u001b[0mon_test_batch_begin\u001b[0m\u001b[0;34m(\u001b[0m\u001b[0mstep\u001b[0m\u001b[0;34m)\u001b[0m\u001b[0;34m\u001b[0m\u001b[0;34m\u001b[0m\u001b[0m\n\u001b[0;32m-> 2072\u001b[0;31m                             \u001b[0mtmp_logs\u001b[0m \u001b[0;34m=\u001b[0m \u001b[0mself\u001b[0m\u001b[0;34m.\u001b[0m\u001b[0mtest_function\u001b[0m\u001b[0;34m(\u001b[0m\u001b[0miterator\u001b[0m\u001b[0;34m)\u001b[0m\u001b[0;34m\u001b[0m\u001b[0;34m\u001b[0m\u001b[0m\n\u001b[0m\u001b[1;32m   2073\u001b[0m                             \u001b[0;32mif\u001b[0m \u001b[0mdata_handler\u001b[0m\u001b[0;34m.\u001b[0m\u001b[0mshould_sync\u001b[0m\u001b[0;34m:\u001b[0m\u001b[0;34m\u001b[0m\u001b[0;34m\u001b[0m\u001b[0m\n\u001b[1;32m   2074\u001b[0m                                 \u001b[0mcontext\u001b[0m\u001b[0;34m.\u001b[0m\u001b[0masync_wait\u001b[0m\u001b[0;34m(\u001b[0m\u001b[0;34m)\u001b[0m\u001b[0;34m\u001b[0m\u001b[0;34m\u001b[0m\u001b[0m\n",
            "\u001b[0;32m/usr/local/lib/python3.10/dist-packages/tensorflow/python/util/traceback_utils.py\u001b[0m in \u001b[0;36merror_handler\u001b[0;34m(*args, **kwargs)\u001b[0m\n\u001b[1;32m    148\u001b[0m     \u001b[0mfiltered_tb\u001b[0m \u001b[0;34m=\u001b[0m \u001b[0;32mNone\u001b[0m\u001b[0;34m\u001b[0m\u001b[0;34m\u001b[0m\u001b[0m\n\u001b[1;32m    149\u001b[0m     \u001b[0;32mtry\u001b[0m\u001b[0;34m:\u001b[0m\u001b[0;34m\u001b[0m\u001b[0;34m\u001b[0m\u001b[0m\n\u001b[0;32m--> 150\u001b[0;31m       \u001b[0;32mreturn\u001b[0m \u001b[0mfn\u001b[0m\u001b[0;34m(\u001b[0m\u001b[0;34m*\u001b[0m\u001b[0margs\u001b[0m\u001b[0;34m,\u001b[0m \u001b[0;34m**\u001b[0m\u001b[0mkwargs\u001b[0m\u001b[0;34m)\u001b[0m\u001b[0;34m\u001b[0m\u001b[0;34m\u001b[0m\u001b[0m\n\u001b[0m\u001b[1;32m    151\u001b[0m     \u001b[0;32mexcept\u001b[0m \u001b[0mException\u001b[0m \u001b[0;32mas\u001b[0m \u001b[0me\u001b[0m\u001b[0;34m:\u001b[0m\u001b[0;34m\u001b[0m\u001b[0;34m\u001b[0m\u001b[0m\n\u001b[1;32m    152\u001b[0m       \u001b[0mfiltered_tb\u001b[0m \u001b[0;34m=\u001b[0m \u001b[0m_process_traceback_frames\u001b[0m\u001b[0;34m(\u001b[0m\u001b[0me\u001b[0m\u001b[0;34m.\u001b[0m\u001b[0m__traceback__\u001b[0m\u001b[0;34m)\u001b[0m\u001b[0;34m\u001b[0m\u001b[0;34m\u001b[0m\u001b[0m\n",
            "\u001b[0;32m/usr/local/lib/python3.10/dist-packages/tensorflow/python/eager/polymorphic_function/polymorphic_function.py\u001b[0m in \u001b[0;36m__call__\u001b[0;34m(self, *args, **kwds)\u001b[0m\n\u001b[1;32m    892\u001b[0m \u001b[0;34m\u001b[0m\u001b[0m\n\u001b[1;32m    893\u001b[0m       \u001b[0;32mwith\u001b[0m \u001b[0mOptionalXlaContext\u001b[0m\u001b[0;34m(\u001b[0m\u001b[0mself\u001b[0m\u001b[0;34m.\u001b[0m\u001b[0m_jit_compile\u001b[0m\u001b[0;34m)\u001b[0m\u001b[0;34m:\u001b[0m\u001b[0;34m\u001b[0m\u001b[0;34m\u001b[0m\u001b[0m\n\u001b[0;32m--> 894\u001b[0;31m         \u001b[0mresult\u001b[0m \u001b[0;34m=\u001b[0m \u001b[0mself\u001b[0m\u001b[0;34m.\u001b[0m\u001b[0m_call\u001b[0m\u001b[0;34m(\u001b[0m\u001b[0;34m*\u001b[0m\u001b[0margs\u001b[0m\u001b[0;34m,\u001b[0m \u001b[0;34m**\u001b[0m\u001b[0mkwds\u001b[0m\u001b[0;34m)\u001b[0m\u001b[0;34m\u001b[0m\u001b[0;34m\u001b[0m\u001b[0m\n\u001b[0m\u001b[1;32m    895\u001b[0m \u001b[0;34m\u001b[0m\u001b[0m\n\u001b[1;32m    896\u001b[0m       \u001b[0mnew_tracing_count\u001b[0m \u001b[0;34m=\u001b[0m \u001b[0mself\u001b[0m\u001b[0;34m.\u001b[0m\u001b[0mexperimental_get_tracing_count\u001b[0m\u001b[0;34m(\u001b[0m\u001b[0;34m)\u001b[0m\u001b[0;34m\u001b[0m\u001b[0;34m\u001b[0m\u001b[0m\n",
            "\u001b[0;32m/usr/local/lib/python3.10/dist-packages/tensorflow/python/eager/polymorphic_function/polymorphic_function.py\u001b[0m in \u001b[0;36m_call\u001b[0;34m(self, *args, **kwds)\u001b[0m\n\u001b[1;32m    931\u001b[0m       \u001b[0;31m# In this case we have not created variables on the first call. So we can\u001b[0m\u001b[0;34m\u001b[0m\u001b[0;34m\u001b[0m\u001b[0m\n\u001b[1;32m    932\u001b[0m       \u001b[0;31m# run the first trace but we should fail if variables are created.\u001b[0m\u001b[0;34m\u001b[0m\u001b[0;34m\u001b[0m\u001b[0m\n\u001b[0;32m--> 933\u001b[0;31m       \u001b[0mresults\u001b[0m \u001b[0;34m=\u001b[0m \u001b[0mself\u001b[0m\u001b[0;34m.\u001b[0m\u001b[0m_variable_creation_fn\u001b[0m\u001b[0;34m(\u001b[0m\u001b[0;34m*\u001b[0m\u001b[0margs\u001b[0m\u001b[0;34m,\u001b[0m \u001b[0;34m**\u001b[0m\u001b[0mkwds\u001b[0m\u001b[0;34m)\u001b[0m\u001b[0;34m\u001b[0m\u001b[0;34m\u001b[0m\u001b[0m\n\u001b[0m\u001b[1;32m    934\u001b[0m       \u001b[0;32mif\u001b[0m \u001b[0mself\u001b[0m\u001b[0;34m.\u001b[0m\u001b[0m_created_variables\u001b[0m \u001b[0;32mand\u001b[0m \u001b[0;32mnot\u001b[0m \u001b[0mALLOW_DYNAMIC_VARIABLE_CREATION\u001b[0m\u001b[0;34m:\u001b[0m\u001b[0;34m\u001b[0m\u001b[0;34m\u001b[0m\u001b[0m\n\u001b[1;32m    935\u001b[0m         raise ValueError(\"Creating variables on a non-first call to a function\"\n",
            "\u001b[0;32m/usr/local/lib/python3.10/dist-packages/tensorflow/python/eager/polymorphic_function/tracing_compiler.py\u001b[0m in \u001b[0;36m__call__\u001b[0;34m(self, *args, **kwargs)\u001b[0m\n\u001b[1;32m    141\u001b[0m       (concrete_function,\n\u001b[1;32m    142\u001b[0m        filtered_flat_args) = self._maybe_define_function(args, kwargs)\n\u001b[0;32m--> 143\u001b[0;31m     return concrete_function._call_flat(\n\u001b[0m\u001b[1;32m    144\u001b[0m         filtered_flat_args, captured_inputs=concrete_function.captured_inputs)  # pylint: disable=protected-access\n\u001b[1;32m    145\u001b[0m \u001b[0;34m\u001b[0m\u001b[0m\n",
            "\u001b[0;32m/usr/local/lib/python3.10/dist-packages/tensorflow/python/eager/polymorphic_function/monomorphic_function.py\u001b[0m in \u001b[0;36m_call_flat\u001b[0;34m(self, args, captured_inputs, cancellation_manager)\u001b[0m\n\u001b[1;32m   1755\u001b[0m         and executing_eagerly):\n\u001b[1;32m   1756\u001b[0m       \u001b[0;31m# No tape is watching; skip to running the function.\u001b[0m\u001b[0;34m\u001b[0m\u001b[0;34m\u001b[0m\u001b[0m\n\u001b[0;32m-> 1757\u001b[0;31m       return self._build_call_outputs(self._inference_function.call(\n\u001b[0m\u001b[1;32m   1758\u001b[0m           ctx, args, cancellation_manager=cancellation_manager))\n\u001b[1;32m   1759\u001b[0m     forward_backward = self._select_forward_and_backward_functions(\n",
            "\u001b[0;32m/usr/local/lib/python3.10/dist-packages/tensorflow/python/eager/polymorphic_function/monomorphic_function.py\u001b[0m in \u001b[0;36mcall\u001b[0;34m(self, ctx, args, cancellation_manager)\u001b[0m\n\u001b[1;32m    379\u001b[0m       \u001b[0;32mwith\u001b[0m \u001b[0m_InterpolateFunctionError\u001b[0m\u001b[0;34m(\u001b[0m\u001b[0mself\u001b[0m\u001b[0;34m)\u001b[0m\u001b[0;34m:\u001b[0m\u001b[0;34m\u001b[0m\u001b[0;34m\u001b[0m\u001b[0m\n\u001b[1;32m    380\u001b[0m         \u001b[0;32mif\u001b[0m \u001b[0mcancellation_manager\u001b[0m \u001b[0;32mis\u001b[0m \u001b[0;32mNone\u001b[0m\u001b[0;34m:\u001b[0m\u001b[0;34m\u001b[0m\u001b[0;34m\u001b[0m\u001b[0m\n\u001b[0;32m--> 381\u001b[0;31m           outputs = execute.execute(\n\u001b[0m\u001b[1;32m    382\u001b[0m               \u001b[0mstr\u001b[0m\u001b[0;34m(\u001b[0m\u001b[0mself\u001b[0m\u001b[0;34m.\u001b[0m\u001b[0msignature\u001b[0m\u001b[0;34m.\u001b[0m\u001b[0mname\u001b[0m\u001b[0;34m)\u001b[0m\u001b[0;34m,\u001b[0m\u001b[0;34m\u001b[0m\u001b[0;34m\u001b[0m\u001b[0m\n\u001b[1;32m    383\u001b[0m               \u001b[0mnum_outputs\u001b[0m\u001b[0;34m=\u001b[0m\u001b[0mself\u001b[0m\u001b[0;34m.\u001b[0m\u001b[0m_num_outputs\u001b[0m\u001b[0;34m,\u001b[0m\u001b[0;34m\u001b[0m\u001b[0;34m\u001b[0m\u001b[0m\n",
            "\u001b[0;32m/usr/local/lib/python3.10/dist-packages/tensorflow/python/eager/execute.py\u001b[0m in \u001b[0;36mquick_execute\u001b[0;34m(op_name, num_outputs, inputs, attrs, ctx, name)\u001b[0m\n\u001b[1;32m     50\u001b[0m   \u001b[0;32mtry\u001b[0m\u001b[0;34m:\u001b[0m\u001b[0;34m\u001b[0m\u001b[0;34m\u001b[0m\u001b[0m\n\u001b[1;32m     51\u001b[0m     \u001b[0mctx\u001b[0m\u001b[0;34m.\u001b[0m\u001b[0mensure_initialized\u001b[0m\u001b[0;34m(\u001b[0m\u001b[0;34m)\u001b[0m\u001b[0;34m\u001b[0m\u001b[0;34m\u001b[0m\u001b[0m\n\u001b[0;32m---> 52\u001b[0;31m     tensors = pywrap_tfe.TFE_Py_Execute(ctx._handle, device_name, op_name,\n\u001b[0m\u001b[1;32m     53\u001b[0m                                         inputs, attrs, num_outputs)\n\u001b[1;32m     54\u001b[0m   \u001b[0;32mexcept\u001b[0m \u001b[0mcore\u001b[0m\u001b[0;34m.\u001b[0m\u001b[0m_NotOkStatusException\u001b[0m \u001b[0;32mas\u001b[0m \u001b[0me\u001b[0m\u001b[0;34m:\u001b[0m\u001b[0;34m\u001b[0m\u001b[0;34m\u001b[0m\u001b[0m\n",
            "\u001b[0;31mKeyboardInterrupt\u001b[0m: "
          ]
        }
      ]
    },
    {
      "cell_type": "code",
      "source": [
        "import numpy as np\n",
        "import tensorflow as tf\n",
        "from tensorflow.keras.preprocessing import image\n",
        "from tensorflow.keras.models import load_model\n",
        "\n",
        "# Load the pre-trained model\n",
        "model = load_model('/content/BrainCancerTreatment.h5')\n",
        "\n",
        "# Define the class labels\n",
        "class_labels = ['Mild', 'Moderate', 'Severe']\n",
        "\n",
        "# Function to preprocess the input image\n",
        "def preprocess_image(image_path):\n",
        "    img = image.load_img(image_path, target_size=(256, 256))\n",
        "    img_array = image.img_to_array(img)\n",
        "    img_array = np.expand_dims(img_array, axis=0)\n",
        "    preprocessed_img = img_array / 255.0  # Normalize pixel values\n",
        "    return preprocessed_img\n",
        "\n",
        "# Function to predict the severity class\n",
        "def predict_severity(image_path):\n",
        "    preprocessed_img = preprocess_image(image_path)\n",
        "    prediction = model.predict(preprocessed_img)\n",
        "    predicted_class = np.argmax(prediction)\n",
        "    severity_class = class_labels[predicted_class]\n",
        "    return severity_class\n",
        "\n",
        "# Example usage\n",
        "image_path = '/content/test/Mild/y1374/y1374.jpg'  # Path to the new MRI image\n",
        "predicted_severity = predict_severity(image_path)\n",
        "print(\"Predicted Severity:\", predicted_severity)\n"
      ],
      "metadata": {
        "id": "2idIPAJg1Gks",
        "colab": {
          "base_uri": "https://localhost:8080/"
        },
        "outputId": "9275acb9-95dd-4bba-c61f-1142ece6f406"
      },
      "execution_count": null,
      "outputs": [
        {
          "output_type": "stream",
          "name": "stdout",
          "text": [
            "1/1 [==============================] - 0s 128ms/step\n",
            "Predicted Severity: Mild\n"
          ]
        }
      ]
    },
    {
      "cell_type": "code",
      "source": [],
      "metadata": {
        "id": "3DtpVKCU1Jpj"
      },
      "execution_count": null,
      "outputs": []
    }
  ]
}